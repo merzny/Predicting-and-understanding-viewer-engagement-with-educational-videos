{
 "cells": [
  {
   "cell_type": "code",
   "execution_count": 3,
   "id": "1979ec6c",
   "metadata": {},
   "outputs": [
    {
     "name": "stdout",
     "output_type": "stream",
     "text": [
      "0.9999998663597216\n",
      "[0.01 0.05 0.07 ... 0.   0.98 0.01]\n",
      "Grid best parameter (max. AUC):  {'max_depth': None, 'n_estimators': 100}\n",
      "Grid best score (AUC):  0.8823210537207814\n"
     ]
    },
    {
     "data": {
      "text/plain": [
       "id\n",
       "9240     0.01\n",
       "9241     0.05\n",
       "9242     0.07\n",
       "9243     1.00\n",
       "9244     0.02\n",
       "         ... \n",
       "11544    0.03\n",
       "11545    0.00\n",
       "11546    0.00\n",
       "11547    0.98\n",
       "11548    0.01\n",
       "Length: 2309, dtype: float64"
      ]
     },
     "execution_count": 3,
     "metadata": {},
     "output_type": "execute_result"
    }
   ],
   "source": [
    "import warnings\n",
    "warnings.filterwarnings('ignore')\n",
    "import pandas as pd\n",
    "import numpy as np\n",
    "import math\n",
    "from sklearn.ensemble import RandomForestClassifier\n",
    "from sklearn import svm\n",
    "from sklearn.model_selection import train_test_split\n",
    "from sklearn.metrics import roc_auc_score\n",
    "from sklearn.metrics import roc_curve, auc\n",
    "from sklearn.preprocessing import LabelEncoder\n",
    "from sklearn.model_selection import GridSearchCV\n",
    "from sklearn.ensemble import RandomForestRegressor\n",
    "def engagement_model():\n",
    "    train = pd.read_csv('datasets/train.csv')\n",
    "    train = train.set_index(['id'])\n",
    "    test = pd.read_csv('datasets/test.csv')\n",
    "    test = test.set_index(['id'])\n",
    "    X_train = train.iloc [:, :-1]\n",
    "    y_train = train.iloc[:,-1:]\n",
    "    regr_rf = RandomForestRegressor()\n",
    "    grid_values = {'n_estimators': [10, 100], 'max_depth': [None, 30]}\n",
    "    grid_clf_auc = GridSearchCV(regr_rf, param_grid=grid_values, scoring='roc_auc').fit(X_train, y_train)\n",
    "    print(grid_clf_auc.score(X_train,y_train))\n",
    "    print(grid_clf_auc.predict(test))\n",
    "    print('Grid best parameter (max. AUC): ', grid_clf_auc.best_params_)\n",
    "    print('Grid best score (AUC): ', grid_clf_auc.best_score_)\n",
    "    df = pd.Series(grid_clf_auc.predict(test),test.index)\n",
    "    return df\n",
    "engagement_model()"
   ]
  },
  {
   "cell_type": "code",
   "execution_count": null,
   "id": "119efbbd",
   "metadata": {},
   "outputs": [],
   "source": []
  }
 ],
 "metadata": {
  "kernelspec": {
   "display_name": "Python 3 (ipykernel)",
   "language": "python",
   "name": "python3"
  },
  "language_info": {
   "codemirror_mode": {
    "name": "ipython",
    "version": 3
   },
   "file_extension": ".py",
   "mimetype": "text/x-python",
   "name": "python",
   "nbconvert_exporter": "python",
   "pygments_lexer": "ipython3",
   "version": "3.11.4"
  }
 },
 "nbformat": 4,
 "nbformat_minor": 5
}
